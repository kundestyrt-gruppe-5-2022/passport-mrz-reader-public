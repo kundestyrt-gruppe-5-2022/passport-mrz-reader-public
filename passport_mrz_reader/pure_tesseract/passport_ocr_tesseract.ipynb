{
    "cells": [
        {
            "cell_type": "markdown",
            "metadata": {},
            "source": [
                "## Import libraries"
            ]
        },
        {
            "cell_type": "code",
            "execution_count": null,
            "metadata": {},
            "outputs": [],
            "source": [
                "import os\n",
                "import random\n",
                "import cv2\n",
                "import pandas as pd\n",
                "import numpy as np\n",
                "from PIL import Image\n",
                "from typing import Optional\n",
                "import sys\n",
                "from passport_mrz_reader.common.preprocessing import preprocess\n",
                "from passport_mrz_reader.common.postprocessing import postprocess\n",
                "from passport_mrz_reader.common.interfaces import PreProcessors\n",
                "from passport_mrz_reader.common.interfaces import PostProcessors\n",
                "from passport_mrz_reader.pure_tesseract.tesseract_predict import get_raw_mrz_text\n",
                "from passport_mrz_reader.utils.custom_passport_checker import CustomPassportChecker\n",
                "\n",
                "%load_ext autoreload"
            ]
        },
        {
            "cell_type": "markdown",
            "metadata": {},
            "source": [
                "## Load images and dataset"
            ]
        },
        {
            "cell_type": "code",
            "execution_count": null,
            "metadata": {},
            "outputs": [],
            "source": [
                "base_image_path = \"../../data/images/PRADO MRZ/\"\n",
                "data = pd.read_csv('../../data/labeled passport data.csv', index_col=0)\n",
                "image_file_paths = [os.path.join(base_image_path, image_name) for image_name in data.index]\n",
                "images = [np.asarray(Image.open(file_name)) for file_name in image_file_paths]\n",
                "data.head()"
            ]
        },
        {
            "cell_type": "markdown",
            "metadata": {},
            "source": [
                "## Test image preprocessing on one random image"
            ]
        },
        {
            "cell_type": "code",
            "execution_count": null,
            "metadata": {},
            "outputs": [],
            "source": [
                "%autoreload\n",
                "\n",
                "image = random.choice(images)\n",
                "preprocessed = preprocess(\n",
                "    image,\n",
                "    PreProcessors(\n",
                "        threshold=10,\n",
                "        grayscale=True,\n",
                "    ),\n",
                "    verbose=True\n",
                ")"
            ]
        },
        {
            "cell_type": "markdown",
            "metadata": {},
            "source": [
                "## Test prediction on one random image"
            ]
        },
        {
            "cell_type": "code",
            "execution_count": null,
            "metadata": {},
            "outputs": [],
            "source": [
                "%autoreload\n",
                "get_raw_mrz_text(image, preprocessed, verbose=True);"
            ]
        },
        {
            "cell_type": "code",
            "execution_count": null,
            "metadata": {},
            "outputs": [],
            "source": []
        }
    ],
    "metadata": {
        "kernelspec": {
            "display_name": "Python 3.9.13 ('ocr2')",
            "language": "python",
            "name": "python3"
        },
        "language_info": {
            "codemirror_mode": {
                "name": "ipython",
                "version": 3
            },
            "file_extension": ".py",
            "mimetype": "text/x-python",
            "name": "python",
            "nbconvert_exporter": "python",
            "pygments_lexer": "ipython3",
            "version": "3.9.13"
        },
        "orig_nbformat": 4,
        "vscode": {
            "interpreter": {
                "hash": "2e7159fbcb7c87073afeac5d60ec161b1e030b6841ff05ec91dbb6459bbb65f2"
            }
        }
    },
    "nbformat": 4,
    "nbformat_minor": 2
}
thresholdthresholdthresholdthresholdthreshold